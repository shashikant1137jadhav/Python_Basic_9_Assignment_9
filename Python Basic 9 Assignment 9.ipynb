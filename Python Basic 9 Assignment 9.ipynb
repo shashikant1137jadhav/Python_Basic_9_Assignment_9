{
 "cells": [
  {
   "cell_type": "markdown",
   "id": "6578abe3",
   "metadata": {},
   "source": [
    "## 1. To what does a relative path refer?"
   ]
  },
  {
   "cell_type": "markdown",
   "id": "36a9e3b6",
   "metadata": {},
   "source": [
    "A relative path refers to a location that is relative to a current directory. "
   ]
  },
  {
   "cell_type": "markdown",
   "id": "2f635531",
   "metadata": {},
   "source": [
    "## 2. What does an absolute path start with your operating system?"
   ]
  },
  {
   "cell_type": "markdown",
   "id": "355ced31",
   "metadata": {},
   "source": [
    "An absolute path is defined as specifying the location of a file or directory from the root directory(/)."
   ]
  },
  {
   "cell_type": "markdown",
   "id": "acb5b897",
   "metadata": {},
   "source": [
    "## 3. What do the functions os.getcwd() and os.chdir() do?"
   ]
  },
  {
   "cell_type": "markdown",
   "id": "d3e0b56d",
   "metadata": {},
   "source": [
    "os.getcwd() >> CWD stands for Current Working Directory. This function allows you to see what your current working directory is\n",
    "os.chdir() >> Here we want to give a parameter path which is required parameter and it's use to change your current directory"
   ]
  },
  {
   "cell_type": "markdown",
   "id": "b8111d58",
   "metadata": {},
   "source": [
    "## 5. In C:\\bacon\\eggs\\spam.txt, which part is the dir name, and which part is the base name?"
   ]
  },
  {
   "cell_type": "markdown",
   "id": "29df9332",
   "metadata": {},
   "source": [
    "C:\\bacon\\eggs is the dir name, while spam.txt is the base name."
   ]
  },
  {
   "cell_type": "markdown",
   "id": "68aa87d8",
   "metadata": {},
   "source": [
    "## 6. What are the three “mode” arguments that can be passed to the open() function?"
   ]
  },
  {
   "cell_type": "markdown",
   "id": "b350a2cc",
   "metadata": {},
   "source": [
    "r : Opens the file in read-only mode\n",
    "r+: Opens a file for reading and writing, placing the pointer at the beginning of the file.\n",
    "w : Opens in write-only mode.\n",
    "wb: Opens a write-only file in binary mode.\n",
    "w+: Opens a file for writing and reading.\n",
    "a : Opens a file for appending new information to it.\n",
    "a+: Opens a file for both appending and reading."
   ]
  },
  {
   "cell_type": "markdown",
   "id": "c20813a1",
   "metadata": {},
   "source": [
    "## 7. What happens if an existing file is opened in write mode?"
   ]
  },
  {
   "cell_type": "markdown",
   "id": "d0c6bccf",
   "metadata": {},
   "source": [
    "To open a file in write mode, “w” is specified. When mode “w” is specified, it creates an empty file for output operations. What if the file already exists? If a file with the same name already exists, its contents are discarded and the file is treated as a new empty file."
   ]
  },
  {
   "cell_type": "markdown",
   "id": "0e21f56f",
   "metadata": {},
   "source": [
    "## 8. How do you tell the difference between read() and readlines()?     "
   ]
  },
  {
   "cell_type": "markdown",
   "id": "82be60e1",
   "metadata": {},
   "source": [
    "The main difference is that read() will read the whole file at once and then print out the first characters that take up as many bytes as you specify in the parenthesis versus the readline() that will read and print out only the first characters that take up as many bytes as you specify in the parenthesis."
   ]
  },
  {
   "cell_type": "markdown",
   "id": "8457aac7",
   "metadata": {},
   "source": [
    "## 9. What data structure does a shelf value resemble?"
   ]
  },
  {
   "cell_type": "code",
   "execution_count": null,
   "id": "4a06ff7c",
   "metadata": {},
   "outputs": [],
   "source": [
    "dictionary value"
   ]
  }
 ],
 "metadata": {
  "kernelspec": {
   "display_name": "Python 3 (ipykernel)",
   "language": "python",
   "name": "python3"
  },
  "language_info": {
   "codemirror_mode": {
    "name": "ipython",
    "version": 3
   },
   "file_extension": ".py",
   "mimetype": "text/x-python",
   "name": "python",
   "nbconvert_exporter": "python",
   "pygments_lexer": "ipython3",
   "version": "3.9.12"
  }
 },
 "nbformat": 4,
 "nbformat_minor": 5
}
